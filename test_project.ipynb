{
 "metadata": {
  "language_info": {
   "codemirror_mode": {
    "name": "ipython",
    "version": 3
   },
   "file_extension": ".py",
   "mimetype": "text/x-python",
   "name": "python",
   "nbconvert_exporter": "python",
   "pygments_lexer": "ipython3",
   "version": "3.8.8"
  },
  "orig_nbformat": 2,
  "kernelspec": {
   "name": "python388jvsc74a57bd083821a1e640bed07368ce447dde7ee6ad77f237cff200957c8aa08079049573a",
   "display_name": "Python 3.8.8 64-bit"
  },
  "metadata": {
   "interpreter": {
    "hash": "83821a1e640bed07368ce447dde7ee6ad77f237cff200957c8aa08079049573a"
   }
  }
 },
 "nbformat": 4,
 "nbformat_minor": 2,
 "cells": [
  {
   "cell_type": "code",
   "execution_count": 41,
   "metadata": {},
   "outputs": [
    {
     "output_type": "stream",
     "name": "stdout",
     "text": [
      "0 4 0.5\n1 5 0.2\n2 3 0.3333333333333333\n3 5 0.4\n4 4 0.16666666666666666\n5 4 0.3333333333333333\n6 2 0\n7 4 0.16666666666666666\n8 6 0.26666666666666666\n9 3 0\n"
     ]
    }
   ],
   "source": [
    "import networkx as nx\n",
    "import matplotlib.pyplot as plt\n",
    "G = nx.gnm_random_graph(10, 20)\n",
    "b=nx.betweenness_centrality(G)\n",
    "\n",
    "for v in nx.nodes(G):\n",
    "    print(f\"{v} {nx.degree(G, v)} {nx.clustering(G, v)}\")\n",
    "# for line in nx.generate_adjlist(G):\n",
    "#     print(line)\n",
    "    "
   ]
  },
  {
   "cell_type": "code",
   "execution_count": null,
   "metadata": {},
   "outputs": [],
   "source": [
    "\n",
    "betweenness = dict.fromkeys(G, 0.0)\n",
    "k = None\n",
    "if k is None:\n",
    "    nodes = G\n",
    "else:\n",
    "    random.seed(seed)\n",
    "    nodes = random.sample(G.nodes(), k)\n",
    "for s in nodes:\n",
    "    print(s)"
   ]
  },
  {
   "cell_type": "code",
   "execution_count": 8,
   "metadata": {},
   "outputs": [],
   "source": [
    "def _single_source_dijkstra_path_basic(G,s):\n",
    "    \n",
    "def betweenness_centrality(G, k=None, normalized=True, weight=None,\n",
    "                           endpoints=False, seed=None):\n",
    "    betweenness = dict.fromkeys(G, 0.0)  # b[v]=0 for v in G\n",
    "    if k is None:\n",
    "        nodes = G\n",
    "    else:\n",
    "        random.seed(seed)\n",
    "        nodes = random.sample(G.nodes(), k)\n",
    "    for s in nodes:\n",
    "  \n",
    "        # single source shortest paths\n",
    "        if weight is None:  # use BFS\n",
    "            S, P, sigma = _single_source_shortest_path_basic(G, s)\n",
    "        else:  # use Dijkstra's algorithm\n",
    "            S, P, sigma = _single_source_dijkstra_path_basic(G, s, weight)\n",
    "  \n",
    "        # accumulation\n",
    "        if endpoints:\n",
    "            betweenness = _accumulate_endpoints(betweenness, S, P, sigma, s)\n",
    "        else:\n",
    "            betweenness = _accumulate_basic(betweenness, S, P, sigma, s)\n",
    "  \n",
    "    # rescaling\n",
    "    betweenness = _rescale(betweenness, len(G), normalized=normalized,\n",
    "                           directed=G.is_directed(), k=k)\n",
    "    return betweenness"
   ]
  },
  {
   "cell_type": "code",
   "execution_count": 9,
   "metadata": {},
   "outputs": [
    {
     "output_type": "error",
     "ename": "NameError",
     "evalue": "name '_single_source_shortest_path_basic' is not defined",
     "traceback": [
      "\u001b[1;31m---------------------------------------------------------------------------\u001b[0m",
      "\u001b[1;31mNameError\u001b[0m                                 Traceback (most recent call last)",
      "\u001b[1;32m<ipython-input-9-aa5de03b8faa>\u001b[0m in \u001b[0;36m<module>\u001b[1;34m\u001b[0m\n\u001b[1;32m----> 1\u001b[1;33m \u001b[0mG\u001b[0m \u001b[1;33m=\u001b[0m \u001b[0mbetweenness_centrality\u001b[0m\u001b[1;33m(\u001b[0m\u001b[0mG\u001b[0m\u001b[1;33m)\u001b[0m\u001b[1;33m\u001b[0m\u001b[1;33m\u001b[0m\u001b[0m\n\u001b[0m",
      "\u001b[1;32m<ipython-input-8-3af5c9f6f19f>\u001b[0m in \u001b[0;36mbetweenness_centrality\u001b[1;34m(G, k, normalized, weight, endpoints, seed)\u001b[0m\n\u001b[0;32m     11\u001b[0m         \u001b[1;31m# single source shortest paths\u001b[0m\u001b[1;33m\u001b[0m\u001b[1;33m\u001b[0m\u001b[1;33m\u001b[0m\u001b[0m\n\u001b[0;32m     12\u001b[0m         \u001b[1;32mif\u001b[0m \u001b[0mweight\u001b[0m \u001b[1;32mis\u001b[0m \u001b[1;32mNone\u001b[0m\u001b[1;33m:\u001b[0m  \u001b[1;31m# use BFS\u001b[0m\u001b[1;33m\u001b[0m\u001b[1;33m\u001b[0m\u001b[0m\n\u001b[1;32m---> 13\u001b[1;33m             \u001b[0mS\u001b[0m\u001b[1;33m,\u001b[0m \u001b[0mP\u001b[0m\u001b[1;33m,\u001b[0m \u001b[0msigma\u001b[0m \u001b[1;33m=\u001b[0m \u001b[0m_single_source_shortest_path_basic\u001b[0m\u001b[1;33m(\u001b[0m\u001b[0mG\u001b[0m\u001b[1;33m,\u001b[0m \u001b[0ms\u001b[0m\u001b[1;33m)\u001b[0m\u001b[1;33m\u001b[0m\u001b[1;33m\u001b[0m\u001b[0m\n\u001b[0m\u001b[0;32m     14\u001b[0m         \u001b[1;32melse\u001b[0m\u001b[1;33m:\u001b[0m  \u001b[1;31m# use Dijkstra's algorithm\u001b[0m\u001b[1;33m\u001b[0m\u001b[1;33m\u001b[0m\u001b[0m\n\u001b[0;32m     15\u001b[0m             \u001b[0mS\u001b[0m\u001b[1;33m,\u001b[0m \u001b[0mP\u001b[0m\u001b[1;33m,\u001b[0m \u001b[0msigma\u001b[0m \u001b[1;33m=\u001b[0m \u001b[0m_single_source_dijkstra_path_basic\u001b[0m\u001b[1;33m(\u001b[0m\u001b[0mG\u001b[0m\u001b[1;33m,\u001b[0m \u001b[0ms\u001b[0m\u001b[1;33m,\u001b[0m \u001b[0mweight\u001b[0m\u001b[1;33m)\u001b[0m\u001b[1;33m\u001b[0m\u001b[1;33m\u001b[0m\u001b[0m\n",
      "\u001b[1;31mNameError\u001b[0m: name '_single_source_shortest_path_basic' is not defined"
     ]
    }
   ],
   "source": [
    "G = betweenness_centrality(G)"
   ]
  },
  {
   "cell_type": "code",
   "execution_count": null,
   "metadata": {},
   "outputs": [],
   "source": []
  }
 ]
}